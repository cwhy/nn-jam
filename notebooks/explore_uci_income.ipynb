{
 "cells": [
  {
   "cell_type": "code",
   "execution_count": 6,
   "metadata": {},
   "outputs": [
    {
     "ename": "AssertionError",
     "evalue": "",
     "output_type": "error",
     "traceback": [
      "\u001B[0;31m---------------------------------------------------------------------------\u001B[0m",
      "\u001B[0;31mAssertionError\u001B[0m                            Traceback (most recent call last)",
      "\u001B[0;32m/tmp/ipykernel_173456/2533807826.py\u001B[0m in \u001B[0;36m<module>\u001B[0;34m\u001B[0m\n\u001B[1;32m     33\u001B[0m         \u001B[0;32mif\u001B[0m \u001B[0mlen\u001B[0m\u001B[0;34m(\u001B[0m\u001B[0mrow\u001B[0m\u001B[0;34m)\u001B[0m \u001B[0;34m>\u001B[0m \u001B[0;36m0\u001B[0m\u001B[0;34m:\u001B[0m\u001B[0;34m\u001B[0m\u001B[0;34m\u001B[0m\u001B[0m\n\u001B[1;32m     34\u001B[0m             \u001B[0mn_rows\u001B[0m \u001B[0;34m+=\u001B[0m \u001B[0;36m1\u001B[0m\u001B[0;34m\u001B[0m\u001B[0;34m\u001B[0m\u001B[0m\n\u001B[0;32m---> 35\u001B[0;31m             \u001B[0;32massert\u001B[0m \u001B[0mlen\u001B[0m\u001B[0;34m(\u001B[0m\u001B[0mrow\u001B[0m\u001B[0;34m)\u001B[0m \u001B[0;34m==\u001B[0m \u001B[0mrow_width\u001B[0m\u001B[0;34m\u001B[0m\u001B[0;34m\u001B[0m\u001B[0m\n\u001B[0m\u001B[1;32m     36\u001B[0m             \u001B[0;32mfor\u001B[0m \u001B[0mi\u001B[0m\u001B[0;34m,\u001B[0m \u001B[0mentry\u001B[0m \u001B[0;32min\u001B[0m \u001B[0menumerate\u001B[0m\u001B[0;34m(\u001B[0m\u001B[0mrow\u001B[0m\u001B[0;34m)\u001B[0m\u001B[0;34m:\u001B[0m\u001B[0;34m\u001B[0m\u001B[0;34m\u001B[0m\u001B[0m\n\u001B[1;32m     37\u001B[0m                 \u001B[0mentry\u001B[0m \u001B[0;34m=\u001B[0m \u001B[0mentry\u001B[0m\u001B[0;34m.\u001B[0m\u001B[0mstrip\u001B[0m\u001B[0;34m(\u001B[0m\u001B[0;34m)\u001B[0m\u001B[0;34m\u001B[0m\u001B[0;34m\u001B[0m\u001B[0m\n",
      "\u001B[0;31mAssertionError\u001B[0m: "
     ]
    }
   ],
   "source": [
    "import numpy as np\n",
    "from pprint import pprint\n",
    "import csv\n",
    "\n",
    "\n",
    "FLOAT_OFFSET = -2\n",
    "variable_names = [\n",
    "  \"age\",\n",
    "  \"workclass\",\n",
    "  \"fnlwgt\",\n",
    "  \"education\",\n",
    "  \"education-num\",\n",
    "  \"marital-status\",\n",
    "  \"occupation\",\n",
    "  \"relationship\",\n",
    "  \"race\",\n",
    "  \"sex\",\n",
    "  \"capital-gain\",\n",
    "  \"capital-loss\",\n",
    "  \"hours-per-week\",\n",
    "  \"native-country\"\n",
    "]\n",
    "row_width = len(variable_names)\n",
    "is_digits = [True] * row_width\n",
    "is_integer = [True] * row_width\n",
    "integer_baskets = [set() for _ in range(row_width)]\n",
    "string_baskets = [set() for _ in range(row_width)]\n",
    "\n",
    "with open('/Data/uci/adult.data', 'r') as f:\n",
    "    uci_reader = csv.reader(f, delimiter=',')\n",
    "    n_rows = 0\n",
    "    for row in uci_reader:\n",
    "        if len(row) > 0:\n",
    "            n_rows += 1\n",
    "            assert len(row) == row_width\n",
    "            for i, entry in enumerate(row):\n",
    "                entry = entry.strip()\n",
    "                if entry.isnumeric() and is_digits[i]:\n",
    "                    if float(entry).is_integer() and is_integer[i]:\n",
    "                        integer_baskets[i].add(int(entry))\n",
    "                    else:\n",
    "                        is_integer[i] = False\n",
    "                else:\n",
    "                    if is_digits[i]:\n",
    "                        print(i, entry)\n",
    "                        print(entry.isnumeric())\n",
    "                    is_digits[i] = False\n",
    "                    string_baskets[i].add(entry)\n",
    "print(is_digits)\n",
    "\n",
    "len_string_baskets = [len(b) for b in string_baskets]\n",
    "\n",
    "print(len_string_baskets)\n",
    "is_cat = [b_l != 0 and b_l < n_rows/10 for b_l in len_string_baskets]\n",
    "\n",
    "all_symbol = set()\n",
    "for i, basket in enumerate(string_baskets):\n",
    "    if is_cat[i]:\n",
    "        all_symbol |= basket\n",
    "all_symbols_list = list(all_symbol)\n",
    "symbol_id_table = {v: i for i, v in enumerate(all_symbols_list)}\n",
    "symbol_table = FLOAT_OFFSET*np.ones((n_rows, row_width), dtype=int)\n",
    "\n",
    "def load_symbol_(_entry: str, row_id: int, row_pos: int):\n",
    "    symbol_table[row_id, row_pos] = symbol_id_table[_entry]\n",
    "\n",
    "pprint([s for i, s in enumerate(string_baskets) if is_digits[i]])\n"
   ]
  },
  {
   "cell_type": "code",
   "execution_count": 1,
   "metadata": {
    "pycharm": {
     "name": "#%%\n"
    }
   },
   "outputs": [],
   "source": []
  }
 ],
 "metadata": {
  "kernelspec": {
   "display_name": "PyCharm (supervised_benchmarks)",
   "language": "python",
   "name": "pycharm-d297a373"
  },
  "language_info": {
   "codemirror_mode": {
    "name": "ipython",
    "version": 3
   },
   "file_extension": ".py",
   "mimetype": "text/x-python",
   "name": "python",
   "nbconvert_exporter": "python",
   "pygments_lexer": "ipython3",
   "version": "3.8.10"
  }
 },
 "nbformat": 4,
 "nbformat_minor": 1
}