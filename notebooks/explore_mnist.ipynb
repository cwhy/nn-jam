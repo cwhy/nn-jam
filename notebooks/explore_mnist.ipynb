{
 "cells": [
  {
   "cell_type": "code",
   "execution_count": null,
   "metadata": {
    "collapsed": true
   },
   "outputs": [],
   "source": [
    "from pathlib import Path\n",
    "\n",
    "from variable_protocols.variables import dim, bounded_float, var_tensor, var_scalar, one_hot\n",
    "\n",
    "from supervised_benchmarks.mnist import MnistDataConfig, Mnist, mnist_in_flattened\n",
    "\n",
    "i = MnistDataConfig(base_path=Path('/Data/torchvision/'))\n",
    "\n",
    "\n",
    "# noinspection PyTypeChecker\n",
    "# because pyCharm sucks\n",
    "mnist_out = var_scalar(one_hot(10))\n",
    "\n",
    "\n",
    "\n",
    "k = Mnist(MnistDataConfig(base_path=Path('/Data/torchvision/')))\n",
    "\n"
   ]
  },
  {
   "cell_type": "code",
   "execution_count": null,
   "outputs": [],
   "source": [],
   "metadata": {
    "collapsed": false,
    "pycharm": {
     "name": "#%%\n"
    }
   }
  }
 ],
 "metadata": {
  "kernelspec": {
   "display_name": "Python 3",
   "language": "python",
   "name": "python3"
  },
  "language_info": {
   "codemirror_mode": {
    "name": "ipython",
    "version": 2
   },
   "file_extension": ".py",
   "mimetype": "text/x-python",
   "name": "python",
   "nbconvert_exporter": "python",
   "pygments_lexer": "ipython2",
   "version": "2.7.6"
  }
 },
 "nbformat": 4,
 "nbformat_minor": 0
}